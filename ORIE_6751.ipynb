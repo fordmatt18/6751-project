{
 "cells": [
  {
   "cell_type": "code",
   "execution_count": 1,
   "metadata": {},
   "outputs": [],
   "source": [
    "import torch\n",
    "import numpy as np\n",
    "\n",
    "# assigns weights to data points, currently all 1's just to test other functions\n",
    "def w(x, c, model):\n",
    "    return torch.ones(len(c))\n",
    "\n",
    "# samples minibatch\n",
    "def get_batch(x, c, batch_size):\n",
    "    inds = np.random.choice(range(len(c)), size=batch_size, replace=False)\n",
    "    return x[inds], c[inds]\n",
    "    \n",
    "# performs an iteration of the iteratively reweighted least squares algorithm\n",
    "def step(x, c, model, optimizer, w, batch_size):\n",
    "    # arguments are self explanatory except w needs to be a callable function, i used a lambda below in the test\n",
    "    optimizer.zero_grad()\n",
    "    x, c = get_batch(x, c, batch_size)\n",
    "    c_hat = model(x).flatten()\n",
    "    weights = w(x, c, model)\n",
    "    loss = torch.mean(weights*(c_hat-c)**2)\n",
    "    loss.backward()\n",
    "    optimizer.step()\n",
    "    return loss\n",
    "\n",
    "# gets parameters of model as array, used to check convergence later\n",
    "def get_params(model):\n",
    "    params=[]\n",
    "    param_generator = model.parameters()\n",
    "    for param in param_generator:\n",
    "        nums = param[0].flatten()\n",
    "        for num in nums:\n",
    "            params.append(num.item())\n",
    "    return np.array(params)\n",
    "\n",
    "# training loop that stops when parameters dont change much, we can explore other convergence criteria\n",
    "def train(x, c, model, optimizer, w, batch_size, eps):\n",
    "    done = False\n",
    "    params = get_params(model)\n",
    "    losses=[]\n",
    "    while not done:\n",
    "        loss = step(x, c, model, optimizer, w, batch_size)\n",
    "        losses.append(loss)\n",
    "        new_params = get_params(model)\n",
    "        if np.linalg.norm(params-new_params)<eps:\n",
    "            done = True\n",
    "        else:\n",
    "            params = new_params\n",
    "    return losses   "
   ]
  },
  {
   "cell_type": "code",
   "execution_count": 2,
   "metadata": {},
   "outputs": [
    {
     "name": "stdout",
     "output_type": "stream",
     "text": [
      "true params are [0.08979118 0.49159217 0.19931328 0.8223423  0.62896633 0.86027324\n",
      " 0.45375198 0.84065086 0.44945568 0.2564683  0.33904016]\n",
      "found params are [0.08979066 0.49159139 0.19931288 0.82234102 0.62896508 0.86027211\n",
      " 0.45375136 0.8406496  0.44945493 0.25646761 0.33904454]\n",
      "relative errror is 2.8518981599160026e-06\n"
     ]
    }
   ],
   "source": [
    "# test training loop on a linear least squares problem with no noise, looks like its working\n",
    "\n",
    "n=1000\n",
    "n_features = 10\n",
    "batch_size = 1000\n",
    "eps = 1e-12\n",
    "model = torch.nn.Sequential(\n",
    "      torch.nn.Linear(in_features=n_features, out_features=1)\n",
    ")\n",
    "start_params = get_params(model)\n",
    "optimizer = torch.optim.Adam(model.parameters())\n",
    "yo = lambda x, c, batch_size: w(x, c, batch_size) # this is the callable function to calculate weights\n",
    "x = torch.rand(n, n_features)\n",
    "true_params = torch.rand(n_features+1)\n",
    "c = torch.matmul(x, true_params[:-1]) + true_params[-1]\n",
    "losses = train(x, c, model, optimizer, w, batch_size, eps)\n",
    "end_params = get_params(model)\n",
    "true_params = true_params.numpy()\n",
    "print(\"true params are\", true_params)\n",
    "print(\"found params are\", end_params)\n",
    "print(\"relative errror is\", np.linalg.norm(end_params-true_params)/np.linalg.norm(true_params))"
   ]
  }
 ],
 "metadata": {
  "kernelspec": {
   "display_name": "Python 3",
   "language": "python",
   "name": "python3"
  },
  "language_info": {
   "codemirror_mode": {
    "name": "ipython",
    "version": 3
   },
   "file_extension": ".py",
   "mimetype": "text/x-python",
   "name": "python",
   "nbconvert_exporter": "python",
   "pygments_lexer": "ipython3",
   "version": "3.7.6"
  }
 },
 "nbformat": 4,
 "nbformat_minor": 4
}
